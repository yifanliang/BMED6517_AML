{
 "metadata": {
  "language_info": {
   "codemirror_mode": {
    "name": "ipython",
    "version": 3
   },
   "file_extension": ".py",
   "mimetype": "text/x-python",
   "name": "python",
   "nbconvert_exporter": "python",
   "pygments_lexer": "ipython3",
   "version": "3.7.6-final"
  },
  "orig_nbformat": 2,
  "kernelspec": {
   "name": "python3",
   "display_name": "Python 3",
   "language": "python"
  }
 },
 "nbformat": 4,
 "nbformat_minor": 2,
 "cells": [
  {
   "cell_type": "code",
   "execution_count": 1,
   "metadata": {},
   "outputs": [],
   "source": [
    "#importing modules\n",
    "import pandas as pd \n",
    "import numpy as np \n",
    "import os"
   ]
  },
  {
   "cell_type": "code",
   "execution_count": 3,
   "metadata": {},
   "outputs": [],
   "source": [
    "#snippet to get the path of all the csv files\n",
    "#change the path according to the system.\n",
    "csv_path = r'D:\\6517\\code_snippets-master\\CSV'\n",
    "file_list = []\n",
    "for root, dirs, files in os.walk(csv_path):\n",
    "    for file in files:\n",
    "        if file.endswith('.CSV'):\n",
    "            file_list.append(os.path.join(root, file))"
   ]
  },
  {
   "cell_type": "code",
   "execution_count": 4,
   "metadata": {},
   "outputs": [
    {
     "output_type": "stream",
     "name": "stdout",
     "text": [
      "359\n"
     ]
    }
   ],
   "source": [
    "#dictionary implementation of file list sample:list of files (since 1 sample has 8 associated files)\n",
    "d = {}\n",
    "i = 0\n",
    "j = 1\n",
    "while i < len(file_list) - 8 + 1:\n",
    "    d[j] = [x for x in file_list[i:i+8]]\n",
    "    i = i+8\n",
    "    j = j+1\n",
    "\n",
    "print(len(d))"
   ]
  },
  {
   "cell_type": "code",
   "execution_count": null,
   "metadata": {},
   "outputs": [],
   "source": [
    "#parsing all the files and storing the information in a dictionary format\n",
    "d1 = {}\n",
    "l1 = []\n",
    "\n",
    "for x in list(d.keys()):\n",
    "    #print(d[x])\n",
    "    ol =[]\n",
    "    il= []\n",
    "    #print('running the inner loop for sample', x)\n",
    "    for i in d[x]:\n",
    "        #print('reading the csv file', i)\n",
    "        df = pd.read_csv(i)\n",
    "        df1 = df.mean(axis=0)\n",
    "        for key, values in df1.items():            \n",
    "            il.append([key, values])\n",
    "    d1[x] = il"
   ]
  },
  {
   "cell_type": "code",
   "execution_count": null,
   "metadata": {},
   "outputs": [],
   "source": [
    "#writing each line onto a csv file\n",
    " with open('sample.csv', 'w') as f1:\n",
    "    for i in list(d1.keys()):\n",
    "        line_list =[]\n",
    "        for x in d1[i]:\n",
    "            line_list.append(x[1])\n",
    "        str1 = ','.join(str(x) for x in line_list)\n",
    "        f1.write(str1 + '\\n')\n"
   ]
  },
  {
   "cell_type": "code",
   "execution_count": null,
   "metadata": {},
   "outputs": [],
   "source": [
    "#generating list of columns\n",
    "for i in range(1,9):\n",
    "    for x in list(df2.columns):\n",
    "        s = str(i) +'_'+ x\n",
    "        print(s, end=',')"
   ]
  },
  {
   "cell_type": "code",
   "execution_count": null,
   "metadata": {},
   "outputs": [],
   "source": []
  },
  {
   "cell_type": "code",
   "execution_count": null,
   "metadata": {},
   "outputs": [],
   "source": [
    "#normalizing the forward scatter columns using min max scaler\n",
    "df = pd.read_csv('sample2.csv')\n",
    "cols_to_normalize =  ['1_FS Lin', '2_FS Lin', '3_FS Lin', '4_FS Lin', '5_FS Lin', '6_FS Lin', '7_FS Lin', '8_FS Lin']\n",
    "x = df[cols_to_normalize].values\n",
    "scaler = MinMaxScaler()\n",
    "x_scaled = scaler.fit_transform(x)\n",
    "df_temp = pd.DataFrame(x_scaled, columns=cols_to_normalize, index = df.index)\n",
    "df[cols_to_normalize] = df_temp"
   ]
  },
  {
   "cell_type": "code",
   "execution_count": null,
   "metadata": {},
   "outputs": [],
   "source": [
    "#output that to a csv\n",
    "df.to_csv('ml_dataset.csv')"
   ]
  }
 ]
}