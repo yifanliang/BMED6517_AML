{
 "metadata": {
  "language_info": {
   "codemirror_mode": {
    "name": "ipython",
    "version": 3
   },
   "file_extension": ".py",
   "mimetype": "text/x-python",
   "name": "python",
   "nbconvert_exporter": "python",
   "pygments_lexer": "ipython3",
   "version": "3.7.6-final"
  },
  "orig_nbformat": 2,
  "kernelspec": {
   "name": "python3",
   "display_name": "Python 3",
   "language": "python"
  }
 },
 "nbformat": 4,
 "nbformat_minor": 2,
 "cells": [
  {
   "cell_type": "code",
   "execution_count": 2,
   "metadata": {},
   "outputs": [],
   "source": [
    "import pandas as pd \n",
    "import numpy as np \n",
    "import os\n",
    "\n"
   ]
  },
  {
   "cell_type": "code",
   "execution_count": 3,
   "metadata": {},
   "outputs": [
    {
     "output_type": "stream",
     "name": "stdout",
     "text": [
      "2872\n"
     ]
    }
   ],
   "source": [
    "csv_path = r'D:\\6517\\code_snippets-master\\CSV'\n",
    "\n",
    "l1 = list(os.listdir(csv_path))\n",
    "print(len(l1))"
   ]
  },
  {
   "cell_type": "code",
   "execution_count": 30,
   "metadata": {},
   "outputs": [
    {
     "output_type": "stream",
     "name": "stdout",
     "text": [
      "359\n"
     ]
    }
   ],
   "source": [
    "d = {}\n",
    "i = 0\n",
    "j = 1\n",
    "while i < len(l1) - 8 + 1:\n",
    "    d[j] = [x for x in l1[i:i+8]]\n",
    "    i = i+8\n",
    "    j = j+1\n",
    "\n",
    "print(len(d))"
   ]
  },
  {
   "cell_type": "code",
   "execution_count": 33,
   "metadata": {},
   "outputs": [
    {
     "output_type": "execute_result",
     "data": {
      "text/plain": [
       "dict_keys([1, 2, 3, 4, 5, 6, 7, 8, 9, 10, 11, 12, 13, 14, 15, 16, 17, 18, 19, 20, 21, 22, 23, 24, 25, 26, 27, 28, 29, 30, 31, 32, 33, 34, 35, 36, 37, 38, 39, 40, 41, 42, 43, 44, 45, 46, 47, 48, 49, 50, 51, 52, 53, 54, 55, 56, 57, 58, 59, 60, 61, 62, 63, 64, 65, 66, 67, 68, 69, 70, 71, 72, 73, 74, 75, 76, 77, 78, 79, 80, 81, 82, 83, 84, 85, 86, 87, 88, 89, 90, 91, 92, 93, 94, 95, 96, 97, 98, 99, 100, 101, 102, 103, 104, 105, 106, 107, 108, 109, 110, 111, 112, 113, 114, 115, 116, 117, 118, 119, 120, 121, 122, 123, 124, 125, 126, 127, 128, 129, 130, 131, 132, 133, 134, 135, 136, 137, 138, 139, 140, 141, 142, 143, 144, 145, 146, 147, 148, 149, 150, 151, 152, 153, 154, 155, 156, 157, 158, 159, 160, 161, 162, 163, 164, 165, 166, 167, 168, 169, 170, 171, 172, 173, 174, 175, 176, 177, 178, 179, 180, 181, 182, 183, 184, 185, 186, 187, 188, 189, 190, 191, 192, 193, 194, 195, 196, 197, 198, 199, 200, 201, 202, 203, 204, 205, 206, 207, 208, 209, 210, 211, 212, 213, 214, 215, 216, 217, 218, 219, 220, 221, 222, 223, 224, 225, 226, 227, 228, 229, 230, 231, 232, 233, 234, 235, 236, 237, 238, 239, 240, 241, 242, 243, 244, 245, 246, 247, 248, 249, 250, 251, 252, 253, 254, 255, 256, 257, 258, 259, 260, 261, 262, 263, 264, 265, 266, 267, 268, 269, 270, 271, 272, 273, 274, 275, 276, 277, 278, 279, 280, 281, 282, 283, 284, 285, 286, 287, 288, 289, 290, 291, 292, 293, 294, 295, 296, 297, 298, 299, 300, 301, 302, 303, 304, 305, 306, 307, 308, 309, 310, 311, 312, 313, 314, 315, 316, 317, 318, 319, 320, 321, 322, 323, 324, 325, 326, 327, 328, 329, 330, 331, 332, 333, 334, 335, 336, 337, 338, 339, 340, 341, 342, 343, 344, 345, 346, 347, 348, 349, 350, 351, 352, 353, 354, 355, 356, 357, 358, 359])"
      ]
     },
     "metadata": {},
     "execution_count": 33
    }
   ],
   "source": []
  },
  {
   "cell_type": "code",
   "execution_count": 13,
   "metadata": {},
   "outputs": [
    {
     "output_type": "execute_result",
     "data": {
      "text/plain": [
       "   FS Lin    SS Log   FL1 Log   FL2 Log   FL3 Log   FL4 Log   FL5 Log\n",
       "0     427  0.452041  0.140279  0.213405  0.683650  0.160077  0.140279\n",
       "1     917  0.620252  0.253195  0.276627  0.609630  0.203733  0.257787\n",
       "2     890  0.620252  0.248659  0.184568  0.592770  0.140279  0.140279\n",
       "3     855  0.656414  0.246862  0.248659  0.530069  0.167291  0.144721\n",
       "4     921  0.629973  0.212638  0.265240  0.598100  0.212638  0.162236"
      ],
      "text/html": "<div>\n<style scoped>\n    .dataframe tbody tr th:only-of-type {\n        vertical-align: middle;\n    }\n\n    .dataframe tbody tr th {\n        vertical-align: top;\n    }\n\n    .dataframe thead th {\n        text-align: right;\n    }\n</style>\n<table border=\"1\" class=\"dataframe\">\n  <thead>\n    <tr style=\"text-align: right;\">\n      <th></th>\n      <th>FS Lin</th>\n      <th>SS Log</th>\n      <th>FL1 Log</th>\n      <th>FL2 Log</th>\n      <th>FL3 Log</th>\n      <th>FL4 Log</th>\n      <th>FL5 Log</th>\n    </tr>\n  </thead>\n  <tbody>\n    <tr>\n      <th>0</th>\n      <td>427</td>\n      <td>0.452041</td>\n      <td>0.140279</td>\n      <td>0.213405</td>\n      <td>0.683650</td>\n      <td>0.160077</td>\n      <td>0.140279</td>\n    </tr>\n    <tr>\n      <th>1</th>\n      <td>917</td>\n      <td>0.620252</td>\n      <td>0.253195</td>\n      <td>0.276627</td>\n      <td>0.609630</td>\n      <td>0.203733</td>\n      <td>0.257787</td>\n    </tr>\n    <tr>\n      <th>2</th>\n      <td>890</td>\n      <td>0.620252</td>\n      <td>0.248659</td>\n      <td>0.184568</td>\n      <td>0.592770</td>\n      <td>0.140279</td>\n      <td>0.140279</td>\n    </tr>\n    <tr>\n      <th>3</th>\n      <td>855</td>\n      <td>0.656414</td>\n      <td>0.246862</td>\n      <td>0.248659</td>\n      <td>0.530069</td>\n      <td>0.167291</td>\n      <td>0.144721</td>\n    </tr>\n    <tr>\n      <th>4</th>\n      <td>921</td>\n      <td>0.629973</td>\n      <td>0.212638</td>\n      <td>0.265240</td>\n      <td>0.598100</td>\n      <td>0.212638</td>\n      <td>0.162236</td>\n    </tr>\n  </tbody>\n</table>\n</div>"
     },
     "metadata": {},
     "execution_count": 13
    }
   ],
   "source": [
    "#write the snippet of code to read the csv and find the mean of each row.\n",
    "df1 = pd.read_csv(r'D:\\6517\\code_snippets-master\\CSV\\0001.csv')\n",
    "df1.head()"
   ]
  },
  {
   "cell_type": "code",
   "execution_count": 46,
   "metadata": {},
   "outputs": [
    {
     "output_type": "execute_result",
     "data": {
      "text/plain": [
       "{1: [['FS Lin', 663.9823110583698],\n",
       "  ['SS Log', 0.5543792811999864],\n",
       "  ['FL1 Log', 0.205182416535547],\n",
       "  ['FL2 Log', 0.2022765503758732],\n",
       "  ['FL3 Log', 0.5892686063670789],\n",
       "  ['FL4 Log', 0.18183215025003457],\n",
       "  ['FL5 Log', 0.16197954896563596]]}"
      ]
     },
     "metadata": {},
     "execution_count": 46
    }
   ],
   "source": [
    "d = {}\n",
    "l = []\n",
    "df2 = df1.mean(axis=0)\n",
    "for key, values in df2.items():\n",
    "    l.append([key, values])\n",
    "d[1] = l\n",
    "d"
   ]
  },
  {
   "cell_type": "code",
   "execution_count": 35,
   "metadata": {},
   "outputs": [
    {
     "output_type": "stream",
     "name": "stdout",
     "text": [
      "1\n['0001.CSV', '0002.CSV', '0003.CSV', '0004.CSV', '0005.CSV', '0006.CSV', '0007.CSV', '0008.CSV']\n2\n['0009.CSV', '0010.CSV', '0011.CSV', '0012.CSV', '0013.CSV', '0014.CSV', '0015.CSV', '0016.CSV']\n3\n['0017.CSV', '0018.CSV', '0019.CSV', '0020.CSV', '0021.CSV', '0022.CSV', '0023.CSV', '0024.CSV']\n4\n['0025.CSV', '0026.CSV', '0027.CSV', '0028.CSV', '0029.CSV', '0030.CSV', '0031.CSV', '0032.CSV']\n5\n['0033.CSV', '0034.CSV', '0035.CSV', '0036.CSV', '0037.CSV', '0038.CSV', '0039.CSV', '0040.CSV']\n6\n['0041.CSV', '0042.CSV', '0043.CSV', '0044.CSV', '0045.CSV', '0046.CSV', '0047.CSV', '0048.CSV']\n7\n['0049.CSV', '0050.CSV', '0051.CSV', '0052.CSV', '0053.CSV', '0054.CSV', '0055.CSV', '0056.CSV']\n8\n['0057.CSV', '0058.CSV', '0059.CSV', '0060.CSV', '0061.CSV', '0062.CSV', '0063.CSV', '0064.CSV']\n9\n['0065.CSV', '0066.CSV', '0067.CSV', '0068.CSV', '0069.CSV', '0070.CSV', '0071.CSV', '0072.CSV']\n10\n['0073.CSV', '0074.CSV', '0075.CSV', '0076.CSV', '0077.CSV', '0078.CSV', '0079.CSV', '0080.CSV']\n"
     ]
    }
   ],
   "source": [
    "d1 = []\n",
    "l1 = []\n",
    "for x in list(d.keys())[:10]:\n",
    "    print(x)\n",
    "    print(d[x])\n"
   ]
  },
  {
   "cell_type": "code",
   "execution_count": 53,
   "metadata": {},
   "outputs": [],
   "source": [
    "#snippet to get the path of all the csv files\n",
    "csv_path = r'D:\\6517\\code_snippets-master\\CSV'\n",
    "file_list = []\n",
    "for root, dirs, files in os.walk(csv_path):\n",
    "    for file in files:\n",
    "        if file.endswith('.CSV'):\n",
    "            file_list.append(os.path.join(root, file))"
   ]
  },
  {
   "cell_type": "code",
   "execution_count": 54,
   "metadata": {},
   "outputs": [
    {
     "output_type": "stream",
     "name": "stdout",
     "text": [
      "359\n"
     ]
    }
   ],
   "source": [
    "#dictionary implementation of file list sample:list of files\n",
    "d = {}\n",
    "i = 0\n",
    "j = 1\n",
    "while i < len(file_list) - 8 + 1:\n",
    "    d[j] = [x for x in file_list[i:i+8]]\n",
    "    i = i+8\n",
    "    j = j+1\n",
    "\n",
    "print(len(d))"
   ]
  },
  {
   "cell_type": "code",
   "execution_count": 82,
   "metadata": {
    "tags": [
     "outputPrepend"
    ]
   },
   "outputs": [
    {
     "output_type": "stream",
     "name": "stdout",
     "text": [
      "file D:\\6517\\code_snippets-master\\CSV\\2577.CSV\n",
      "reading the csv file D:\\6517\\code_snippets-master\\CSV\\2578.CSV\n",
      "reading the csv file D:\\6517\\code_snippets-master\\CSV\\2579.CSV\n",
      "reading the csv file D:\\6517\\code_snippets-master\\CSV\\2580.CSV\n",
      "reading the csv file D:\\6517\\code_snippets-master\\CSV\\2581.CSV\n",
      "reading the csv file D:\\6517\\code_snippets-master\\CSV\\2582.CSV\n",
      "reading the csv file D:\\6517\\code_snippets-master\\CSV\\2583.CSV\n",
      "reading the csv file D:\\6517\\code_snippets-master\\CSV\\2584.CSV\n",
      "running the inner loop for sample 324\n",
      "reading the csv file D:\\6517\\code_snippets-master\\CSV\\2585.CSV\n",
      "reading the csv file D:\\6517\\code_snippets-master\\CSV\\2586.CSV\n",
      "reading the csv file D:\\6517\\code_snippets-master\\CSV\\2587.CSV\n",
      "reading the csv file D:\\6517\\code_snippets-master\\CSV\\2588.CSV\n",
      "reading the csv file D:\\6517\\code_snippets-master\\CSV\\2589.CSV\n",
      "reading the csv file D:\\6517\\code_snippets-master\\CSV\\2590.CSV\n",
      "reading the csv file D:\\6517\\code_snippets-master\\CSV\\2591.CSV\n",
      "reading the csv file D:\\6517\\code_snippets-master\\CSV\\2592.CSV\n",
      "running the inner loop for sample 325\n",
      "reading the csv file D:\\6517\\code_snippets-master\\CSV\\2593.CSV\n",
      "reading the csv file D:\\6517\\code_snippets-master\\CSV\\2594.CSV\n",
      "reading the csv file D:\\6517\\code_snippets-master\\CSV\\2595.CSV\n",
      "reading the csv file D:\\6517\\code_snippets-master\\CSV\\2596.CSV\n",
      "reading the csv file D:\\6517\\code_snippets-master\\CSV\\2597.CSV\n",
      "reading the csv file D:\\6517\\code_snippets-master\\CSV\\2598.CSV\n",
      "reading the csv file D:\\6517\\code_snippets-master\\CSV\\2599.CSV\n",
      "reading the csv file D:\\6517\\code_snippets-master\\CSV\\2600.CSV\n",
      "running the inner loop for sample 326\n",
      "reading the csv file D:\\6517\\code_snippets-master\\CSV\\2601.CSV\n",
      "reading the csv file D:\\6517\\code_snippets-master\\CSV\\2602.CSV\n",
      "reading the csv file D:\\6517\\code_snippets-master\\CSV\\2603.CSV\n",
      "reading the csv file D:\\6517\\code_snippets-master\\CSV\\2604.CSV\n",
      "reading the csv file D:\\6517\\code_snippets-master\\CSV\\2605.CSV\n",
      "reading the csv file D:\\6517\\code_snippets-master\\CSV\\2606.CSV\n",
      "reading the csv file D:\\6517\\code_snippets-master\\CSV\\2607.CSV\n",
      "reading the csv file D:\\6517\\code_snippets-master\\CSV\\2608.CSV\n",
      "running the inner loop for sample 327\n",
      "reading the csv file D:\\6517\\code_snippets-master\\CSV\\2609.CSV\n",
      "reading the csv file D:\\6517\\code_snippets-master\\CSV\\2610.CSV\n",
      "reading the csv file D:\\6517\\code_snippets-master\\CSV\\2611.CSV\n",
      "reading the csv file D:\\6517\\code_snippets-master\\CSV\\2612.CSV\n",
      "reading the csv file D:\\6517\\code_snippets-master\\CSV\\2613.CSV\n",
      "reading the csv file D:\\6517\\code_snippets-master\\CSV\\2614.CSV\n",
      "reading the csv file D:\\6517\\code_snippets-master\\CSV\\2615.CSV\n",
      "reading the csv file D:\\6517\\code_snippets-master\\CSV\\2616.CSV\n",
      "running the inner loop for sample 328\n",
      "reading the csv file D:\\6517\\code_snippets-master\\CSV\\2617.CSV\n",
      "reading the csv file D:\\6517\\code_snippets-master\\CSV\\2618.CSV\n",
      "reading the csv file D:\\6517\\code_snippets-master\\CSV\\2619.CSV\n",
      "reading the csv file D:\\6517\\code_snippets-master\\CSV\\2620.CSV\n",
      "reading the csv file D:\\6517\\code_snippets-master\\CSV\\2621.CSV\n",
      "reading the csv file D:\\6517\\code_snippets-master\\CSV\\2622.CSV\n",
      "reading the csv file D:\\6517\\code_snippets-master\\CSV\\2623.CSV\n",
      "reading the csv file D:\\6517\\code_snippets-master\\CSV\\2624.CSV\n",
      "running the inner loop for sample 329\n",
      "reading the csv file D:\\6517\\code_snippets-master\\CSV\\2625.CSV\n",
      "reading the csv file D:\\6517\\code_snippets-master\\CSV\\2626.CSV\n",
      "reading the csv file D:\\6517\\code_snippets-master\\CSV\\2627.CSV\n",
      "reading the csv file D:\\6517\\code_snippets-master\\CSV\\2628.CSV\n",
      "reading the csv file D:\\6517\\code_snippets-master\\CSV\\2629.CSV\n",
      "reading the csv file D:\\6517\\code_snippets-master\\CSV\\2630.CSV\n",
      "reading the csv file D:\\6517\\code_snippets-master\\CSV\\2631.CSV\n",
      "reading the csv file D:\\6517\\code_snippets-master\\CSV\\2632.CSV\n",
      "running the inner loop for sample 330\n",
      "reading the csv file D:\\6517\\code_snippets-master\\CSV\\2633.CSV\n",
      "reading the csv file D:\\6517\\code_snippets-master\\CSV\\2634.CSV\n",
      "reading the csv file D:\\6517\\code_snippets-master\\CSV\\2635.CSV\n",
      "reading the csv file D:\\6517\\code_snippets-master\\CSV\\2636.CSV\n",
      "reading the csv file D:\\6517\\code_snippets-master\\CSV\\2637.CSV\n",
      "reading the csv file D:\\6517\\code_snippets-master\\CSV\\2638.CSV\n",
      "reading the csv file D:\\6517\\code_snippets-master\\CSV\\2639.CSV\n",
      "reading the csv file D:\\6517\\code_snippets-master\\CSV\\2640.CSV\n",
      "running the inner loop for sample 331\n",
      "reading the csv file D:\\6517\\code_snippets-master\\CSV\\2641.CSV\n",
      "reading the csv file D:\\6517\\code_snippets-master\\CSV\\2642.CSV\n",
      "reading the csv file D:\\6517\\code_snippets-master\\CSV\\2643.CSV\n",
      "reading the csv file D:\\6517\\code_snippets-master\\CSV\\2644.CSV\n",
      "reading the csv file D:\\6517\\code_snippets-master\\CSV\\2645.CSV\n",
      "reading the csv file D:\\6517\\code_snippets-master\\CSV\\2646.CSV\n",
      "reading the csv file D:\\6517\\code_snippets-master\\CSV\\2647.CSV\n",
      "reading the csv file D:\\6517\\code_snippets-master\\CSV\\2648.CSV\n",
      "running the inner loop for sample 332\n",
      "reading the csv file D:\\6517\\code_snippets-master\\CSV\\2649.CSV\n",
      "reading the csv file D:\\6517\\code_snippets-master\\CSV\\2650.CSV\n",
      "reading the csv file D:\\6517\\code_snippets-master\\CSV\\2651.CSV\n",
      "reading the csv file D:\\6517\\code_snippets-master\\CSV\\2652.CSV\n",
      "reading the csv file D:\\6517\\code_snippets-master\\CSV\\2653.CSV\n",
      "reading the csv file D:\\6517\\code_snippets-master\\CSV\\2654.CSV\n",
      "reading the csv file D:\\6517\\code_snippets-master\\CSV\\2655.CSV\n",
      "reading the csv file D:\\6517\\code_snippets-master\\CSV\\2656.CSV\n",
      "running the inner loop for sample 333\n",
      "reading the csv file D:\\6517\\code_snippets-master\\CSV\\2657.CSV\n",
      "reading the csv file D:\\6517\\code_snippets-master\\CSV\\2658.CSV\n",
      "reading the csv file D:\\6517\\code_snippets-master\\CSV\\2659.CSV\n",
      "reading the csv file D:\\6517\\code_snippets-master\\CSV\\2660.CSV\n",
      "reading the csv file D:\\6517\\code_snippets-master\\CSV\\2661.CSV\n",
      "reading the csv file D:\\6517\\code_snippets-master\\CSV\\2662.CSV\n",
      "reading the csv file D:\\6517\\code_snippets-master\\CSV\\2663.CSV\n",
      "reading the csv file D:\\6517\\code_snippets-master\\CSV\\2664.CSV\n",
      "running the inner loop for sample 334\n",
      "reading the csv file D:\\6517\\code_snippets-master\\CSV\\2665.CSV\n",
      "reading the csv file D:\\6517\\code_snippets-master\\CSV\\2666.CSV\n",
      "reading the csv file D:\\6517\\code_snippets-master\\CSV\\2667.CSV\n",
      "reading the csv file D:\\6517\\code_snippets-master\\CSV\\2668.CSV\n",
      "reading the csv file D:\\6517\\code_snippets-master\\CSV\\2669.CSV\n",
      "reading the csv file D:\\6517\\code_snippets-master\\CSV\\2670.CSV\n",
      "reading the csv file D:\\6517\\code_snippets-master\\CSV\\2671.CSV\n",
      "reading the csv file D:\\6517\\code_snippets-master\\CSV\\2672.CSV\n",
      "running the inner loop for sample 335\n",
      "reading the csv file D:\\6517\\code_snippets-master\\CSV\\2673.CSV\n",
      "reading the csv file D:\\6517\\code_snippets-master\\CSV\\2674.CSV\n",
      "reading the csv file D:\\6517\\code_snippets-master\\CSV\\2675.CSV\n",
      "reading the csv file D:\\6517\\code_snippets-master\\CSV\\2676.CSV\n",
      "reading the csv file D:\\6517\\code_snippets-master\\CSV\\2677.CSV\n",
      "reading the csv file D:\\6517\\code_snippets-master\\CSV\\2678.CSV\n",
      "reading the csv file D:\\6517\\code_snippets-master\\CSV\\2679.CSV\n",
      "reading the csv file D:\\6517\\code_snippets-master\\CSV\\2680.CSV\n",
      "running the inner loop for sample 336\n",
      "reading the csv file D:\\6517\\code_snippets-master\\CSV\\2681.CSV\n",
      "reading the csv file D:\\6517\\code_snippets-master\\CSV\\2682.CSV\n",
      "reading the csv file D:\\6517\\code_snippets-master\\CSV\\2683.CSV\n",
      "reading the csv file D:\\6517\\code_snippets-master\\CSV\\2684.CSV\n",
      "reading the csv file D:\\6517\\code_snippets-master\\CSV\\2685.CSV\n",
      "reading the csv file D:\\6517\\code_snippets-master\\CSV\\2686.CSV\n",
      "reading the csv file D:\\6517\\code_snippets-master\\CSV\\2687.CSV\n",
      "reading the csv file D:\\6517\\code_snippets-master\\CSV\\2688.CSV\n",
      "running the inner loop for sample 337\n",
      "reading the csv file D:\\6517\\code_snippets-master\\CSV\\2689.CSV\n",
      "reading the csv file D:\\6517\\code_snippets-master\\CSV\\2690.CSV\n",
      "reading the csv file D:\\6517\\code_snippets-master\\CSV\\2691.CSV\n",
      "reading the csv file D:\\6517\\code_snippets-master\\CSV\\2692.CSV\n",
      "reading the csv file D:\\6517\\code_snippets-master\\CSV\\2693.CSV\n",
      "reading the csv file D:\\6517\\code_snippets-master\\CSV\\2694.CSV\n",
      "reading the csv file D:\\6517\\code_snippets-master\\CSV\\2695.CSV\n",
      "reading the csv file D:\\6517\\code_snippets-master\\CSV\\2696.CSV\n",
      "running the inner loop for sample 338\n",
      "reading the csv file D:\\6517\\code_snippets-master\\CSV\\2697.CSV\n",
      "reading the csv file D:\\6517\\code_snippets-master\\CSV\\2698.CSV\n",
      "reading the csv file D:\\6517\\code_snippets-master\\CSV\\2699.CSV\n",
      "reading the csv file D:\\6517\\code_snippets-master\\CSV\\2700.CSV\n",
      "reading the csv file D:\\6517\\code_snippets-master\\CSV\\2701.CSV\n",
      "reading the csv file D:\\6517\\code_snippets-master\\CSV\\2702.CSV\n",
      "reading the csv file D:\\6517\\code_snippets-master\\CSV\\2703.CSV\n",
      "reading the csv file D:\\6517\\code_snippets-master\\CSV\\2704.CSV\n",
      "running the inner loop for sample 339\n",
      "reading the csv file D:\\6517\\code_snippets-master\\CSV\\2705.CSV\n",
      "reading the csv file D:\\6517\\code_snippets-master\\CSV\\2706.CSV\n",
      "reading the csv file D:\\6517\\code_snippets-master\\CSV\\2707.CSV\n",
      "reading the csv file D:\\6517\\code_snippets-master\\CSV\\2708.CSV\n",
      "reading the csv file D:\\6517\\code_snippets-master\\CSV\\2709.CSV\n",
      "reading the csv file D:\\6517\\code_snippets-master\\CSV\\2710.CSV\n",
      "reading the csv file D:\\6517\\code_snippets-master\\CSV\\2711.CSV\n",
      "reading the csv file D:\\6517\\code_snippets-master\\CSV\\2712.CSV\n",
      "running the inner loop for sample 340\n",
      "reading the csv file D:\\6517\\code_snippets-master\\CSV\\2713.CSV\n",
      "reading the csv file D:\\6517\\code_snippets-master\\CSV\\2714.CSV\n",
      "reading the csv file D:\\6517\\code_snippets-master\\CSV\\2715.CSV\n",
      "reading the csv file D:\\6517\\code_snippets-master\\CSV\\2716.CSV\n",
      "reading the csv file D:\\6517\\code_snippets-master\\CSV\\2717.CSV\n",
      "reading the csv file D:\\6517\\code_snippets-master\\CSV\\2718.CSV\n",
      "reading the csv file D:\\6517\\code_snippets-master\\CSV\\2719.CSV\n",
      "reading the csv file D:\\6517\\code_snippets-master\\CSV\\2720.CSV\n",
      "running the inner loop for sample 341\n",
      "reading the csv file D:\\6517\\code_snippets-master\\CSV\\2721.CSV\n",
      "reading the csv file D:\\6517\\code_snippets-master\\CSV\\2722.CSV\n",
      "reading the csv file D:\\6517\\code_snippets-master\\CSV\\2723.CSV\n",
      "reading the csv file D:\\6517\\code_snippets-master\\CSV\\2724.CSV\n",
      "reading the csv file D:\\6517\\code_snippets-master\\CSV\\2725.CSV\n",
      "reading the csv file D:\\6517\\code_snippets-master\\CSV\\2726.CSV\n",
      "reading the csv file D:\\6517\\code_snippets-master\\CSV\\2727.CSV\n",
      "reading the csv file D:\\6517\\code_snippets-master\\CSV\\2728.CSV\n",
      "running the inner loop for sample 342\n",
      "reading the csv file D:\\6517\\code_snippets-master\\CSV\\2729.CSV\n",
      "reading the csv file D:\\6517\\code_snippets-master\\CSV\\2730.CSV\n",
      "reading the csv file D:\\6517\\code_snippets-master\\CSV\\2731.CSV\n",
      "reading the csv file D:\\6517\\code_snippets-master\\CSV\\2732.CSV\n",
      "reading the csv file D:\\6517\\code_snippets-master\\CSV\\2733.CSV\n",
      "reading the csv file D:\\6517\\code_snippets-master\\CSV\\2734.CSV\n",
      "reading the csv file D:\\6517\\code_snippets-master\\CSV\\2735.CSV\n",
      "reading the csv file D:\\6517\\code_snippets-master\\CSV\\2736.CSV\n",
      "running the inner loop for sample 343\n",
      "reading the csv file D:\\6517\\code_snippets-master\\CSV\\2737.CSV\n",
      "reading the csv file D:\\6517\\code_snippets-master\\CSV\\2738.CSV\n",
      "reading the csv file D:\\6517\\code_snippets-master\\CSV\\2739.CSV\n",
      "reading the csv file D:\\6517\\code_snippets-master\\CSV\\2740.CSV\n",
      "reading the csv file D:\\6517\\code_snippets-master\\CSV\\2741.CSV\n",
      "reading the csv file D:\\6517\\code_snippets-master\\CSV\\2742.CSV\n",
      "reading the csv file D:\\6517\\code_snippets-master\\CSV\\2743.CSV\n",
      "reading the csv file D:\\6517\\code_snippets-master\\CSV\\2744.CSV\n",
      "running the inner loop for sample 344\n",
      "reading the csv file D:\\6517\\code_snippets-master\\CSV\\2745.CSV\n",
      "reading the csv file D:\\6517\\code_snippets-master\\CSV\\2746.CSV\n",
      "reading the csv file D:\\6517\\code_snippets-master\\CSV\\2747.CSV\n",
      "reading the csv file D:\\6517\\code_snippets-master\\CSV\\2748.CSV\n",
      "reading the csv file D:\\6517\\code_snippets-master\\CSV\\2749.CSV\n",
      "reading the csv file D:\\6517\\code_snippets-master\\CSV\\2750.CSV\n",
      "reading the csv file D:\\6517\\code_snippets-master\\CSV\\2751.CSV\n",
      "reading the csv file D:\\6517\\code_snippets-master\\CSV\\2752.CSV\n",
      "running the inner loop for sample 345\n",
      "reading the csv file D:\\6517\\code_snippets-master\\CSV\\2753.CSV\n",
      "reading the csv file D:\\6517\\code_snippets-master\\CSV\\2754.CSV\n",
      "reading the csv file D:\\6517\\code_snippets-master\\CSV\\2755.CSV\n",
      "reading the csv file D:\\6517\\code_snippets-master\\CSV\\2756.CSV\n",
      "reading the csv file D:\\6517\\code_snippets-master\\CSV\\2757.CSV\n",
      "reading the csv file D:\\6517\\code_snippets-master\\CSV\\2758.CSV\n",
      "reading the csv file D:\\6517\\code_snippets-master\\CSV\\2759.CSV\n",
      "reading the csv file D:\\6517\\code_snippets-master\\CSV\\2760.CSV\n",
      "running the inner loop for sample 346\n",
      "reading the csv file D:\\6517\\code_snippets-master\\CSV\\2761.CSV\n",
      "reading the csv file D:\\6517\\code_snippets-master\\CSV\\2762.CSV\n",
      "reading the csv file D:\\6517\\code_snippets-master\\CSV\\2763.CSV\n",
      "reading the csv file D:\\6517\\code_snippets-master\\CSV\\2764.CSV\n",
      "reading the csv file D:\\6517\\code_snippets-master\\CSV\\2765.CSV\n",
      "reading the csv file D:\\6517\\code_snippets-master\\CSV\\2766.CSV\n",
      "reading the csv file D:\\6517\\code_snippets-master\\CSV\\2767.CSV\n",
      "reading the csv file D:\\6517\\code_snippets-master\\CSV\\2768.CSV\n",
      "running the inner loop for sample 347\n",
      "reading the csv file D:\\6517\\code_snippets-master\\CSV\\2769.CSV\n",
      "reading the csv file D:\\6517\\code_snippets-master\\CSV\\2770.CSV\n",
      "reading the csv file D:\\6517\\code_snippets-master\\CSV\\2771.CSV\n",
      "reading the csv file D:\\6517\\code_snippets-master\\CSV\\2772.CSV\n",
      "reading the csv file D:\\6517\\code_snippets-master\\CSV\\2773.CSV\n",
      "reading the csv file D:\\6517\\code_snippets-master\\CSV\\2774.CSV\n",
      "reading the csv file D:\\6517\\code_snippets-master\\CSV\\2775.CSV\n",
      "reading the csv file D:\\6517\\code_snippets-master\\CSV\\2776.CSV\n",
      "running the inner loop for sample 348\n",
      "reading the csv file D:\\6517\\code_snippets-master\\CSV\\2777.CSV\n",
      "reading the csv file D:\\6517\\code_snippets-master\\CSV\\2778.CSV\n",
      "reading the csv file D:\\6517\\code_snippets-master\\CSV\\2779.CSV\n",
      "reading the csv file D:\\6517\\code_snippets-master\\CSV\\2780.CSV\n",
      "reading the csv file D:\\6517\\code_snippets-master\\CSV\\2781.CSV\n",
      "reading the csv file D:\\6517\\code_snippets-master\\CSV\\2782.CSV\n",
      "reading the csv file D:\\6517\\code_snippets-master\\CSV\\2783.CSV\n",
      "reading the csv file D:\\6517\\code_snippets-master\\CSV\\2784.CSV\n",
      "running the inner loop for sample 349\n",
      "reading the csv file D:\\6517\\code_snippets-master\\CSV\\2785.CSV\n",
      "reading the csv file D:\\6517\\code_snippets-master\\CSV\\2786.CSV\n",
      "reading the csv file D:\\6517\\code_snippets-master\\CSV\\2787.CSV\n",
      "reading the csv file D:\\6517\\code_snippets-master\\CSV\\2788.CSV\n",
      "reading the csv file D:\\6517\\code_snippets-master\\CSV\\2789.CSV\n",
      "reading the csv file D:\\6517\\code_snippets-master\\CSV\\2790.CSV\n",
      "reading the csv file D:\\6517\\code_snippets-master\\CSV\\2791.CSV\n",
      "reading the csv file D:\\6517\\code_snippets-master\\CSV\\2792.CSV\n",
      "running the inner loop for sample 350\n",
      "reading the csv file D:\\6517\\code_snippets-master\\CSV\\2793.CSV\n",
      "reading the csv file D:\\6517\\code_snippets-master\\CSV\\2794.CSV\n",
      "reading the csv file D:\\6517\\code_snippets-master\\CSV\\2795.CSV\n",
      "reading the csv file D:\\6517\\code_snippets-master\\CSV\\2796.CSV\n",
      "reading the csv file D:\\6517\\code_snippets-master\\CSV\\2797.CSV\n",
      "reading the csv file D:\\6517\\code_snippets-master\\CSV\\2798.CSV\n",
      "reading the csv file D:\\6517\\code_snippets-master\\CSV\\2799.CSV\n",
      "reading the csv file D:\\6517\\code_snippets-master\\CSV\\2800.CSV\n",
      "running the inner loop for sample 351\n",
      "reading the csv file D:\\6517\\code_snippets-master\\CSV\\2801.CSV\n",
      "reading the csv file D:\\6517\\code_snippets-master\\CSV\\2802.CSV\n",
      "reading the csv file D:\\6517\\code_snippets-master\\CSV\\2803.CSV\n",
      "reading the csv file D:\\6517\\code_snippets-master\\CSV\\2804.CSV\n",
      "reading the csv file D:\\6517\\code_snippets-master\\CSV\\2805.CSV\n",
      "reading the csv file D:\\6517\\code_snippets-master\\CSV\\2806.CSV\n",
      "reading the csv file D:\\6517\\code_snippets-master\\CSV\\2807.CSV\n",
      "reading the csv file D:\\6517\\code_snippets-master\\CSV\\2808.CSV\n",
      "running the inner loop for sample 352\n",
      "reading the csv file D:\\6517\\code_snippets-master\\CSV\\2809.CSV\n",
      "reading the csv file D:\\6517\\code_snippets-master\\CSV\\2810.CSV\n",
      "reading the csv file D:\\6517\\code_snippets-master\\CSV\\2811.CSV\n",
      "reading the csv file D:\\6517\\code_snippets-master\\CSV\\2812.CSV\n",
      "reading the csv file D:\\6517\\code_snippets-master\\CSV\\2813.CSV\n",
      "reading the csv file D:\\6517\\code_snippets-master\\CSV\\2814.CSV\n",
      "reading the csv file D:\\6517\\code_snippets-master\\CSV\\2815.CSV\n",
      "reading the csv file D:\\6517\\code_snippets-master\\CSV\\2816.CSV\n",
      "running the inner loop for sample 353\n",
      "reading the csv file D:\\6517\\code_snippets-master\\CSV\\2817.CSV\n",
      "reading the csv file D:\\6517\\code_snippets-master\\CSV\\2818.CSV\n",
      "reading the csv file D:\\6517\\code_snippets-master\\CSV\\2819.CSV\n",
      "reading the csv file D:\\6517\\code_snippets-master\\CSV\\2820.CSV\n",
      "reading the csv file D:\\6517\\code_snippets-master\\CSV\\2821.CSV\n",
      "reading the csv file D:\\6517\\code_snippets-master\\CSV\\2822.CSV\n",
      "reading the csv file D:\\6517\\code_snippets-master\\CSV\\2823.CSV\n",
      "reading the csv file D:\\6517\\code_snippets-master\\CSV\\2824.CSV\n",
      "running the inner loop for sample 354\n",
      "reading the csv file D:\\6517\\code_snippets-master\\CSV\\2825.CSV\n",
      "reading the csv file D:\\6517\\code_snippets-master\\CSV\\2826.CSV\n",
      "reading the csv file D:\\6517\\code_snippets-master\\CSV\\2827.CSV\n",
      "reading the csv file D:\\6517\\code_snippets-master\\CSV\\2828.CSV\n",
      "reading the csv file D:\\6517\\code_snippets-master\\CSV\\2829.CSV\n",
      "reading the csv file D:\\6517\\code_snippets-master\\CSV\\2830.CSV\n",
      "reading the csv file D:\\6517\\code_snippets-master\\CSV\\2831.CSV\n",
      "reading the csv file D:\\6517\\code_snippets-master\\CSV\\2832.CSV\n",
      "running the inner loop for sample 355\n",
      "reading the csv file D:\\6517\\code_snippets-master\\CSV\\2833.CSV\n",
      "reading the csv file D:\\6517\\code_snippets-master\\CSV\\2834.CSV\n",
      "reading the csv file D:\\6517\\code_snippets-master\\CSV\\2835.CSV\n",
      "reading the csv file D:\\6517\\code_snippets-master\\CSV\\2836.CSV\n",
      "reading the csv file D:\\6517\\code_snippets-master\\CSV\\2837.CSV\n",
      "reading the csv file D:\\6517\\code_snippets-master\\CSV\\2838.CSV\n",
      "reading the csv file D:\\6517\\code_snippets-master\\CSV\\2839.CSV\n",
      "reading the csv file D:\\6517\\code_snippets-master\\CSV\\2840.CSV\n",
      "running the inner loop for sample 356\n",
      "reading the csv file D:\\6517\\code_snippets-master\\CSV\\2841.CSV\n",
      "reading the csv file D:\\6517\\code_snippets-master\\CSV\\2842.CSV\n",
      "reading the csv file D:\\6517\\code_snippets-master\\CSV\\2843.CSV\n",
      "reading the csv file D:\\6517\\code_snippets-master\\CSV\\2844.CSV\n",
      "reading the csv file D:\\6517\\code_snippets-master\\CSV\\2845.CSV\n",
      "reading the csv file D:\\6517\\code_snippets-master\\CSV\\2846.CSV\n",
      "reading the csv file D:\\6517\\code_snippets-master\\CSV\\2847.CSV\n",
      "reading the csv file D:\\6517\\code_snippets-master\\CSV\\2848.CSV\n",
      "running the inner loop for sample 357\n",
      "reading the csv file D:\\6517\\code_snippets-master\\CSV\\2849.CSV\n",
      "reading the csv file D:\\6517\\code_snippets-master\\CSV\\2850.CSV\n",
      "reading the csv file D:\\6517\\code_snippets-master\\CSV\\2851.CSV\n",
      "reading the csv file D:\\6517\\code_snippets-master\\CSV\\2852.CSV\n",
      "reading the csv file D:\\6517\\code_snippets-master\\CSV\\2853.CSV\n",
      "reading the csv file D:\\6517\\code_snippets-master\\CSV\\2854.CSV\n",
      "reading the csv file D:\\6517\\code_snippets-master\\CSV\\2855.CSV\n",
      "reading the csv file D:\\6517\\code_snippets-master\\CSV\\2856.CSV\n",
      "running the inner loop for sample 358\n",
      "reading the csv file D:\\6517\\code_snippets-master\\CSV\\2857.CSV\n",
      "reading the csv file D:\\6517\\code_snippets-master\\CSV\\2858.CSV\n",
      "reading the csv file D:\\6517\\code_snippets-master\\CSV\\2859.CSV\n",
      "reading the csv file D:\\6517\\code_snippets-master\\CSV\\2860.CSV\n",
      "reading the csv file D:\\6517\\code_snippets-master\\CSV\\2861.CSV\n",
      "reading the csv file D:\\6517\\code_snippets-master\\CSV\\2862.CSV\n",
      "reading the csv file D:\\6517\\code_snippets-master\\CSV\\2863.CSV\n",
      "reading the csv file D:\\6517\\code_snippets-master\\CSV\\2864.CSV\n",
      "running the inner loop for sample 359\n",
      "reading the csv file D:\\6517\\code_snippets-master\\CSV\\2865.CSV\n",
      "reading the csv file D:\\6517\\code_snippets-master\\CSV\\2866.CSV\n",
      "reading the csv file D:\\6517\\code_snippets-master\\CSV\\2867.CSV\n",
      "reading the csv file D:\\6517\\code_snippets-master\\CSV\\2868.CSV\n",
      "reading the csv file D:\\6517\\code_snippets-master\\CSV\\2869.CSV\n",
      "reading the csv file D:\\6517\\code_snippets-master\\CSV\\2870.CSV\n",
      "reading the csv file D:\\6517\\code_snippets-master\\CSV\\2871.CSV\n",
      "reading the csv file D:\\6517\\code_snippets-master\\CSV\\2872.CSV\n"
     ]
    }
   ],
   "source": [
    "#parsing all the files and storing the information in a dictionary format\n",
    "d1 = {}\n",
    "l1 = []\n",
    "\n",
    "for x in list(d.keys()):\n",
    "    #print(d[x])\n",
    "    ol =[]\n",
    "    il= []\n",
    "    print('running the inner loop for sample', x)\n",
    "    for i in d[x]:\n",
    "        print('reading the csv file', i)\n",
    "        df = pd.read_csv(i)\n",
    "        df1 = df.mean(axis=0)\n",
    "        for key, values in df1.items():            \n",
    "            il.append([key, values])\n",
    "    d1[x] = il"
   ]
  },
  {
   "cell_type": "code",
   "execution_count": 83,
   "metadata": {},
   "outputs": [
    {
     "output_type": "execute_result",
     "data": {
      "text/plain": [
       "359"
      ]
     },
     "metadata": {},
     "execution_count": 83
    }
   ],
   "source": [
    "len(d1)"
   ]
  },
  {
   "cell_type": "code",
   "execution_count": 84,
   "metadata": {},
   "outputs": [],
   "source": [
    "#writing each line onto a csv file\n",
    " with open('sample.csv', 'w') as f1:\n",
    "    for i in list(d1.keys()):\n",
    "        line_list =[]\n",
    "        for x in d1[i]:\n",
    "            line_list.append(x[1])\n",
    "        str1 = ','.join(str(x) for x in line_list)\n",
    "        f1.write(str1 + '\\n')\n"
   ]
  },
  {
   "cell_type": "code",
   "execution_count": 89,
   "metadata": {},
   "outputs": [
    {
     "output_type": "execute_result",
     "data": {
      "text/plain": [
       "   FS Lin    SS Log   FL1 Log   FL2 Log   FL3 Log   FL4 Log   FL5 Log\n",
       "0     427  0.452041  0.140279  0.213405  0.683650  0.160077  0.140279\n",
       "1     917  0.620252  0.253195  0.276627  0.609630  0.203733  0.257787\n",
       "2     890  0.620252  0.248659  0.184568  0.592770  0.140279  0.140279\n",
       "3     855  0.656414  0.246862  0.248659  0.530069  0.167291  0.144721\n",
       "4     921  0.629973  0.212638  0.265240  0.598100  0.212638  0.162236"
      ],
      "text/html": "<div>\n<style scoped>\n    .dataframe tbody tr th:only-of-type {\n        vertical-align: middle;\n    }\n\n    .dataframe tbody tr th {\n        vertical-align: top;\n    }\n\n    .dataframe thead th {\n        text-align: right;\n    }\n</style>\n<table border=\"1\" class=\"dataframe\">\n  <thead>\n    <tr style=\"text-align: right;\">\n      <th></th>\n      <th>FS Lin</th>\n      <th>SS Log</th>\n      <th>FL1 Log</th>\n      <th>FL2 Log</th>\n      <th>FL3 Log</th>\n      <th>FL4 Log</th>\n      <th>FL5 Log</th>\n    </tr>\n  </thead>\n  <tbody>\n    <tr>\n      <th>0</th>\n      <td>427</td>\n      <td>0.452041</td>\n      <td>0.140279</td>\n      <td>0.213405</td>\n      <td>0.683650</td>\n      <td>0.160077</td>\n      <td>0.140279</td>\n    </tr>\n    <tr>\n      <th>1</th>\n      <td>917</td>\n      <td>0.620252</td>\n      <td>0.253195</td>\n      <td>0.276627</td>\n      <td>0.609630</td>\n      <td>0.203733</td>\n      <td>0.257787</td>\n    </tr>\n    <tr>\n      <th>2</th>\n      <td>890</td>\n      <td>0.620252</td>\n      <td>0.248659</td>\n      <td>0.184568</td>\n      <td>0.592770</td>\n      <td>0.140279</td>\n      <td>0.140279</td>\n    </tr>\n    <tr>\n      <th>3</th>\n      <td>855</td>\n      <td>0.656414</td>\n      <td>0.246862</td>\n      <td>0.248659</td>\n      <td>0.530069</td>\n      <td>0.167291</td>\n      <td>0.144721</td>\n    </tr>\n    <tr>\n      <th>4</th>\n      <td>921</td>\n      <td>0.629973</td>\n      <td>0.212638</td>\n      <td>0.265240</td>\n      <td>0.598100</td>\n      <td>0.212638</td>\n      <td>0.162236</td>\n    </tr>\n  </tbody>\n</table>\n</div>"
     },
     "metadata": {},
     "execution_count": 89
    }
   ],
   "source": [
    "df2 = pd.read_csv(r'D:\\6517\\code_snippets-master\\CSV\\0001.csv')\n",
    "df2.head()"
   ]
  },
  {
   "cell_type": "code",
   "execution_count": 95,
   "metadata": {},
   "outputs": [
    {
     "output_type": "execute_result",
     "data": {
      "text/plain": [
       "0       -1.082854\n",
       "1        1.156125\n",
       "2        1.032753\n",
       "3        0.872826\n",
       "4        1.174402\n",
       "           ...   \n",
       "26961   -0.858956\n",
       "26962   -1.197087\n",
       "26963   -1.261058\n",
       "26964   -0.872664\n",
       "26965   -0.566518\n",
       "Name: FS Lin, Length: 26966, dtype: float64"
      ]
     },
     "metadata": {},
     "execution_count": 95
    }
   ],
   "source": [
    "(df2['FS Lin'] - df2['FS Lin'].mean())/df2['FS Lin'].std()"
   ]
  },
  {
   "cell_type": "code",
   "execution_count": 106,
   "metadata": {},
   "outputs": [
    {
     "output_type": "stream",
     "name": "stdout",
     "text": [
      "1_FS Lin,1_SS Log,1_FL1 Log,1_FL2 Log,1_FL3 Log,1_FL4 Log,1_FL5 Log,2_FS Lin,2_SS Log,2_FL1 Log,2_FL2 Log,2_FL3 Log,2_FL4 Log,2_FL5 Log,3_FS Lin,3_SS Log,3_FL1 Log,3_FL2 Log,3_FL3 Log,3_FL4 Log,3_FL5 Log,4_FS Lin,4_SS Log,4_FL1 Log,4_FL2 Log,4_FL3 Log,4_FL4 Log,4_FL5 Log,5_FS Lin,5_SS Log,5_FL1 Log,5_FL2 Log,5_FL3 Log,5_FL4 Log,5_FL5 Log,6_FS Lin,6_SS Log,6_FL1 Log,6_FL2 Log,6_FL3 Log,6_FL4 Log,6_FL5 Log,7_FS Lin,7_SS Log,7_FL1 Log,7_FL2 Log,7_FL3 Log,7_FL4 Log,7_FL5 Log,8_FS Lin,8_SS Log,8_FL1 Log,8_FL2 Log,8_FL3 Log,8_FL4 Log,8_FL5 Log,"
     ]
    }
   ],
   "source": [
    "#printing columns\n",
    "for i in range(1,9):\n",
    "    for x in list(df2.columns):\n",
    "        s = str(i) +'_'+ x\n",
    "        print(s, end=',')"
   ]
  },
  {
   "cell_type": "code",
   "execution_count": 112,
   "metadata": {},
   "outputs": [
    {
     "output_type": "error",
     "ename": "IndexError",
     "evalue": "only integers, slices (`:`), ellipsis (`...`), numpy.newaxis (`None`) and integer or boolean arrays are valid indices",
     "traceback": [
      "\u001b[1;31m---------------------------------------------------------------------------\u001b[0m",
      "\u001b[1;31mIndexError\u001b[0m                                Traceback (most recent call last)",
      "\u001b[1;32m<ipython-input-112-860c5f48fb06>\u001b[0m in \u001b[0;36m<module>\u001b[1;34m\u001b[0m\n\u001b[0;32m      1\u001b[0m \u001b[1;32mfrom\u001b[0m \u001b[0msklearn\u001b[0m \u001b[1;32mimport\u001b[0m \u001b[0mpreprocessing\u001b[0m\u001b[1;33m\u001b[0m\u001b[1;33m\u001b[0m\u001b[0m\n\u001b[0;32m      2\u001b[0m \u001b[0mnormalized_df2\u001b[0m \u001b[1;33m=\u001b[0m \u001b[0mpreprocessing\u001b[0m\u001b[1;33m.\u001b[0m\u001b[0mnormalize\u001b[0m\u001b[1;33m(\u001b[0m\u001b[0mdf2\u001b[0m\u001b[1;33m)\u001b[0m\u001b[1;33m\u001b[0m\u001b[1;33m\u001b[0m\u001b[0m\n\u001b[1;32m----> 3\u001b[1;33m \u001b[0mnormalized_df2\u001b[0m\u001b[1;33m[\u001b[0m\u001b[1;34m'FS Lin'\u001b[0m\u001b[1;33m]\u001b[0m\u001b[1;33m\u001b[0m\u001b[1;33m\u001b[0m\u001b[0m\n\u001b[0m",
      "\u001b[1;31mIndexError\u001b[0m: only integers, slices (`:`), ellipsis (`...`), numpy.newaxis (`None`) and integer or boolean arrays are valid indices"
     ]
    }
   ],
   "source": [
    "from sklearn import preprocessing\n",
    "normalized_df2 = preprocessing.normalize(df2)\n",
    "normalized_df2['FS Lin']"
   ]
  },
  {
   "cell_type": "code",
   "execution_count": 115,
   "metadata": {},
   "outputs": [
    {
     "output_type": "execute_result",
     "data": {
      "text/plain": [
       "array([427, 917, 890, ..., 388, 473, 540], dtype=int64)"
      ]
     },
     "metadata": {},
     "execution_count": 115
    }
   ],
   "source": [
    "x=df2['FS Lin'].values\n",
    "x"
   ]
  },
  {
   "cell_type": "code",
   "execution_count": 116,
   "metadata": {},
   "outputs": [
    {
     "output_type": "error",
     "ename": "ValueError",
     "evalue": "Expected 2D array, got 1D array instead:\narray=[427. 917. 890. ... 388. 473. 540.].\nReshape your data either using array.reshape(-1, 1) if your data has a single feature or array.reshape(1, -1) if it contains a single sample.",
     "traceback": [
      "\u001b[1;31m---------------------------------------------------------------------------\u001b[0m",
      "\u001b[1;31mValueError\u001b[0m                                Traceback (most recent call last)",
      "\u001b[1;32m<ipython-input-116-0e9877ad488c>\u001b[0m in \u001b[0;36m<module>\u001b[1;34m\u001b[0m\n\u001b[0;32m      2\u001b[0m \u001b[1;33m\u001b[0m\u001b[0m\n\u001b[0;32m      3\u001b[0m \u001b[0mscaler\u001b[0m \u001b[1;33m=\u001b[0m \u001b[0mMinMaxScaler\u001b[0m\u001b[1;33m(\u001b[0m\u001b[1;33m)\u001b[0m\u001b[1;33m\u001b[0m\u001b[1;33m\u001b[0m\u001b[0m\n\u001b[1;32m----> 4\u001b[1;33m \u001b[0mx_scaled\u001b[0m \u001b[1;33m=\u001b[0m \u001b[0mscaler\u001b[0m\u001b[1;33m.\u001b[0m\u001b[0mfit_transform\u001b[0m\u001b[1;33m(\u001b[0m\u001b[0mx\u001b[0m\u001b[1;33m)\u001b[0m\u001b[1;33m\u001b[0m\u001b[1;33m\u001b[0m\u001b[0m\n\u001b[0m\u001b[0;32m      5\u001b[0m \u001b[0mdf_temp\u001b[0m \u001b[1;33m=\u001b[0m \u001b[0mpd\u001b[0m\u001b[1;33m.\u001b[0m\u001b[0mDataFrame\u001b[0m\u001b[1;33m(\u001b[0m\u001b[0mx_scaled\u001b[0m\u001b[1;33m,\u001b[0m \u001b[0mcolumns\u001b[0m\u001b[1;33m=\u001b[0m\u001b[1;34m'FS LIN'\u001b[0m\u001b[1;33m,\u001b[0m \u001b[0mindex\u001b[0m\u001b[1;33m=\u001b[0m\u001b[0mdf2\u001b[0m\u001b[1;33m.\u001b[0m\u001b[0mindex\u001b[0m\u001b[1;33m)\u001b[0m\u001b[1;33m\u001b[0m\u001b[1;33m\u001b[0m\u001b[0m\n\u001b[0;32m      6\u001b[0m \u001b[0mdf2\u001b[0m\u001b[1;33m[\u001b[0m\u001b[1;34m'FS LIN'\u001b[0m\u001b[1;33m]\u001b[0m \u001b[1;33m=\u001b[0m \u001b[0mdf_temp\u001b[0m\u001b[1;33m\u001b[0m\u001b[1;33m\u001b[0m\u001b[0m\n",
      "\u001b[1;32m~\\anaconda3\\lib\\site-packages\\sklearn\\base.py\u001b[0m in \u001b[0;36mfit_transform\u001b[1;34m(self, X, y, **fit_params)\u001b[0m\n\u001b[0;32m    688\u001b[0m         \u001b[1;32mif\u001b[0m \u001b[0my\u001b[0m \u001b[1;32mis\u001b[0m \u001b[1;32mNone\u001b[0m\u001b[1;33m:\u001b[0m\u001b[1;33m\u001b[0m\u001b[1;33m\u001b[0m\u001b[0m\n\u001b[0;32m    689\u001b[0m             \u001b[1;31m# fit method of arity 1 (unsupervised transformation)\u001b[0m\u001b[1;33m\u001b[0m\u001b[1;33m\u001b[0m\u001b[1;33m\u001b[0m\u001b[0m\n\u001b[1;32m--> 690\u001b[1;33m             \u001b[1;32mreturn\u001b[0m \u001b[0mself\u001b[0m\u001b[1;33m.\u001b[0m\u001b[0mfit\u001b[0m\u001b[1;33m(\u001b[0m\u001b[0mX\u001b[0m\u001b[1;33m,\u001b[0m \u001b[1;33m**\u001b[0m\u001b[0mfit_params\u001b[0m\u001b[1;33m)\u001b[0m\u001b[1;33m.\u001b[0m\u001b[0mtransform\u001b[0m\u001b[1;33m(\u001b[0m\u001b[0mX\u001b[0m\u001b[1;33m)\u001b[0m\u001b[1;33m\u001b[0m\u001b[1;33m\u001b[0m\u001b[0m\n\u001b[0m\u001b[0;32m    691\u001b[0m         \u001b[1;32melse\u001b[0m\u001b[1;33m:\u001b[0m\u001b[1;33m\u001b[0m\u001b[1;33m\u001b[0m\u001b[0m\n\u001b[0;32m    692\u001b[0m             \u001b[1;31m# fit method of arity 2 (supervised transformation)\u001b[0m\u001b[1;33m\u001b[0m\u001b[1;33m\u001b[0m\u001b[1;33m\u001b[0m\u001b[0m\n",
      "\u001b[1;32m~\\anaconda3\\lib\\site-packages\\sklearn\\preprocessing\\_data.py\u001b[0m in \u001b[0;36mfit\u001b[1;34m(self, X, y)\u001b[0m\n\u001b[0;32m    334\u001b[0m         \u001b[1;31m# Reset internal state before fitting\u001b[0m\u001b[1;33m\u001b[0m\u001b[1;33m\u001b[0m\u001b[1;33m\u001b[0m\u001b[0m\n\u001b[0;32m    335\u001b[0m         \u001b[0mself\u001b[0m\u001b[1;33m.\u001b[0m\u001b[0m_reset\u001b[0m\u001b[1;33m(\u001b[0m\u001b[1;33m)\u001b[0m\u001b[1;33m\u001b[0m\u001b[1;33m\u001b[0m\u001b[0m\n\u001b[1;32m--> 336\u001b[1;33m         \u001b[1;32mreturn\u001b[0m \u001b[0mself\u001b[0m\u001b[1;33m.\u001b[0m\u001b[0mpartial_fit\u001b[0m\u001b[1;33m(\u001b[0m\u001b[0mX\u001b[0m\u001b[1;33m,\u001b[0m \u001b[0my\u001b[0m\u001b[1;33m)\u001b[0m\u001b[1;33m\u001b[0m\u001b[1;33m\u001b[0m\u001b[0m\n\u001b[0m\u001b[0;32m    337\u001b[0m \u001b[1;33m\u001b[0m\u001b[0m\n\u001b[0;32m    338\u001b[0m     \u001b[1;32mdef\u001b[0m \u001b[0mpartial_fit\u001b[0m\u001b[1;33m(\u001b[0m\u001b[0mself\u001b[0m\u001b[1;33m,\u001b[0m \u001b[0mX\u001b[0m\u001b[1;33m,\u001b[0m \u001b[0my\u001b[0m\u001b[1;33m=\u001b[0m\u001b[1;32mNone\u001b[0m\u001b[1;33m)\u001b[0m\u001b[1;33m:\u001b[0m\u001b[1;33m\u001b[0m\u001b[1;33m\u001b[0m\u001b[0m\n",
      "\u001b[1;32m~\\anaconda3\\lib\\site-packages\\sklearn\\preprocessing\\_data.py\u001b[0m in \u001b[0;36mpartial_fit\u001b[1;34m(self, X, y)\u001b[0m\n\u001b[0;32m    369\u001b[0m         X = self._validate_data(X, reset=first_pass,\n\u001b[0;32m    370\u001b[0m                                 \u001b[0mestimator\u001b[0m\u001b[1;33m=\u001b[0m\u001b[0mself\u001b[0m\u001b[1;33m,\u001b[0m \u001b[0mdtype\u001b[0m\u001b[1;33m=\u001b[0m\u001b[0mFLOAT_DTYPES\u001b[0m\u001b[1;33m,\u001b[0m\u001b[1;33m\u001b[0m\u001b[1;33m\u001b[0m\u001b[0m\n\u001b[1;32m--> 371\u001b[1;33m                                 force_all_finite=\"allow-nan\")\n\u001b[0m\u001b[0;32m    372\u001b[0m \u001b[1;33m\u001b[0m\u001b[0m\n\u001b[0;32m    373\u001b[0m         \u001b[0mdata_min\u001b[0m \u001b[1;33m=\u001b[0m \u001b[0mnp\u001b[0m\u001b[1;33m.\u001b[0m\u001b[0mnanmin\u001b[0m\u001b[1;33m(\u001b[0m\u001b[0mX\u001b[0m\u001b[1;33m,\u001b[0m \u001b[0maxis\u001b[0m\u001b[1;33m=\u001b[0m\u001b[1;36m0\u001b[0m\u001b[1;33m)\u001b[0m\u001b[1;33m\u001b[0m\u001b[1;33m\u001b[0m\u001b[0m\n",
      "\u001b[1;32m~\\anaconda3\\lib\\site-packages\\sklearn\\base.py\u001b[0m in \u001b[0;36m_validate_data\u001b[1;34m(self, X, y, reset, validate_separately, **check_params)\u001b[0m\n\u001b[0;32m    418\u001b[0m                     \u001b[1;34mf\"requires y to be passed, but the target y is None.\"\u001b[0m\u001b[1;33m\u001b[0m\u001b[1;33m\u001b[0m\u001b[0m\n\u001b[0;32m    419\u001b[0m                 )\n\u001b[1;32m--> 420\u001b[1;33m             \u001b[0mX\u001b[0m \u001b[1;33m=\u001b[0m \u001b[0mcheck_array\u001b[0m\u001b[1;33m(\u001b[0m\u001b[0mX\u001b[0m\u001b[1;33m,\u001b[0m \u001b[1;33m**\u001b[0m\u001b[0mcheck_params\u001b[0m\u001b[1;33m)\u001b[0m\u001b[1;33m\u001b[0m\u001b[1;33m\u001b[0m\u001b[0m\n\u001b[0m\u001b[0;32m    421\u001b[0m             \u001b[0mout\u001b[0m \u001b[1;33m=\u001b[0m \u001b[0mX\u001b[0m\u001b[1;33m\u001b[0m\u001b[1;33m\u001b[0m\u001b[0m\n\u001b[0;32m    422\u001b[0m         \u001b[1;32melse\u001b[0m\u001b[1;33m:\u001b[0m\u001b[1;33m\u001b[0m\u001b[1;33m\u001b[0m\u001b[0m\n",
      "\u001b[1;32m~\\anaconda3\\lib\\site-packages\\sklearn\\utils\\validation.py\u001b[0m in \u001b[0;36minner_f\u001b[1;34m(*args, **kwargs)\u001b[0m\n\u001b[0;32m     71\u001b[0m                           FutureWarning)\n\u001b[0;32m     72\u001b[0m         \u001b[0mkwargs\u001b[0m\u001b[1;33m.\u001b[0m\u001b[0mupdate\u001b[0m\u001b[1;33m(\u001b[0m\u001b[1;33m{\u001b[0m\u001b[0mk\u001b[0m\u001b[1;33m:\u001b[0m \u001b[0marg\u001b[0m \u001b[1;32mfor\u001b[0m \u001b[0mk\u001b[0m\u001b[1;33m,\u001b[0m \u001b[0marg\u001b[0m \u001b[1;32min\u001b[0m \u001b[0mzip\u001b[0m\u001b[1;33m(\u001b[0m\u001b[0msig\u001b[0m\u001b[1;33m.\u001b[0m\u001b[0mparameters\u001b[0m\u001b[1;33m,\u001b[0m \u001b[0margs\u001b[0m\u001b[1;33m)\u001b[0m\u001b[1;33m}\u001b[0m\u001b[1;33m)\u001b[0m\u001b[1;33m\u001b[0m\u001b[1;33m\u001b[0m\u001b[0m\n\u001b[1;32m---> 73\u001b[1;33m         \u001b[1;32mreturn\u001b[0m \u001b[0mf\u001b[0m\u001b[1;33m(\u001b[0m\u001b[1;33m**\u001b[0m\u001b[0mkwargs\u001b[0m\u001b[1;33m)\u001b[0m\u001b[1;33m\u001b[0m\u001b[1;33m\u001b[0m\u001b[0m\n\u001b[0m\u001b[0;32m     74\u001b[0m     \u001b[1;32mreturn\u001b[0m \u001b[0minner_f\u001b[0m\u001b[1;33m\u001b[0m\u001b[1;33m\u001b[0m\u001b[0m\n\u001b[0;32m     75\u001b[0m \u001b[1;33m\u001b[0m\u001b[0m\n",
      "\u001b[1;32m~\\anaconda3\\lib\\site-packages\\sklearn\\utils\\validation.py\u001b[0m in \u001b[0;36mcheck_array\u001b[1;34m(array, accept_sparse, accept_large_sparse, dtype, order, copy, force_all_finite, ensure_2d, allow_nd, ensure_min_samples, ensure_min_features, estimator)\u001b[0m\n\u001b[0;32m    622\u001b[0m                     \u001b[1;34m\"Reshape your data either using array.reshape(-1, 1) if \"\u001b[0m\u001b[1;33m\u001b[0m\u001b[1;33m\u001b[0m\u001b[0m\n\u001b[0;32m    623\u001b[0m                     \u001b[1;34m\"your data has a single feature or array.reshape(1, -1) \"\u001b[0m\u001b[1;33m\u001b[0m\u001b[1;33m\u001b[0m\u001b[0m\n\u001b[1;32m--> 624\u001b[1;33m                     \"if it contains a single sample.\".format(array))\n\u001b[0m\u001b[0;32m    625\u001b[0m \u001b[1;33m\u001b[0m\u001b[0m\n\u001b[0;32m    626\u001b[0m         \u001b[1;31m# in the future np.flexible dtypes will be handled like object dtypes\u001b[0m\u001b[1;33m\u001b[0m\u001b[1;33m\u001b[0m\u001b[1;33m\u001b[0m\u001b[0m\n",
      "\u001b[1;31mValueError\u001b[0m: Expected 2D array, got 1D array instead:\narray=[427. 917. 890. ... 388. 473. 540.].\nReshape your data either using array.reshape(-1, 1) if your data has a single feature or array.reshape(1, -1) if it contains a single sample."
     ]
    }
   ],
   "source": [
    "#normalizing using min max scaler\n",
    "from sklearn.preprocessing import MinMaxScaler\n",
    "\n",
    "scaler = MinMaxScaler()\n",
    "x_scaled = scaler.fit_transform(x)\n",
    "df_temp = pd.DataFrame(x_scaled, columns='FS LIN', index=df2.index)\n",
    "df2['FS LIN'] = df_temp"
   ]
  },
  {
   "cell_type": "code",
   "execution_count": 123,
   "metadata": {},
   "outputs": [],
   "source": [
    "#normalizing columns\n",
    "df = pd.read_csv('sample2.csv')\n",
    "cols_to_normalize =  ['1_FS Lin', '2_FS Lin', '3_FS Lin', '4_FS Lin', '5_FS Lin', '6_FS Lin', '7_FS Lin', '8_FS Lin']\n",
    "x = df[cols_to_normalize].values\n",
    "scaler = MinMaxScaler()\n",
    "x_scaled = scaler.fit_transform(x)\n",
    "df_temp = pd.DataFrame(x_scaled, columns=cols_to_normalize, index = df.index)\n",
    "df[cols_to_normalize] = df_temp\n"
   ]
  },
  {
   "cell_type": "code",
   "execution_count": 125,
   "metadata": {},
   "outputs": [],
   "source": [
    "df.to_csv('ml_dataset.csv')"
   ]
  },
  {
   "cell_type": "code",
   "execution_count": 126,
   "metadata": {},
   "outputs": [
    {
     "output_type": "execute_result",
     "data": {
      "text/plain": [
       "   FCSFileName  TubeNumber  SampleNumber   Label\n",
       "0            1           1             1  normal\n",
       "1            2           2             1  normal\n",
       "2            3           3             1  normal\n",
       "3            4           4             1  normal\n",
       "4            5           5             1  normal"
      ],
      "text/html": "<div>\n<style scoped>\n    .dataframe tbody tr th:only-of-type {\n        vertical-align: middle;\n    }\n\n    .dataframe tbody tr th {\n        vertical-align: top;\n    }\n\n    .dataframe thead th {\n        text-align: right;\n    }\n</style>\n<table border=\"1\" class=\"dataframe\">\n  <thead>\n    <tr style=\"text-align: right;\">\n      <th></th>\n      <th>FCSFileName</th>\n      <th>TubeNumber</th>\n      <th>SampleNumber</th>\n      <th>Label</th>\n    </tr>\n  </thead>\n  <tbody>\n    <tr>\n      <th>0</th>\n      <td>1</td>\n      <td>1</td>\n      <td>1</td>\n      <td>normal</td>\n    </tr>\n    <tr>\n      <th>1</th>\n      <td>2</td>\n      <td>2</td>\n      <td>1</td>\n      <td>normal</td>\n    </tr>\n    <tr>\n      <th>2</th>\n      <td>3</td>\n      <td>3</td>\n      <td>1</td>\n      <td>normal</td>\n    </tr>\n    <tr>\n      <th>3</th>\n      <td>4</td>\n      <td>4</td>\n      <td>1</td>\n      <td>normal</td>\n    </tr>\n    <tr>\n      <th>4</th>\n      <td>5</td>\n      <td>5</td>\n      <td>1</td>\n      <td>normal</td>\n    </tr>\n  </tbody>\n</table>\n</div>"
     },
     "metadata": {},
     "execution_count": 126
    }
   ],
   "source": [
    "df1 = pd.read_csv('AMLTraining.csv/AMLTraining.csv')\n",
    "df1.head()"
   ]
  },
  {
   "cell_type": "code",
   "execution_count": 142,
   "metadata": {},
   "outputs": [],
   "source": [
    "with open('AMLTraining.csv/AMLTraining.csv') as f1:\n",
    "    lines = []\n",
    "    for line in f1.readlines():\n",
    "        lines.append(line.strip().split(','))\n",
    "\n",
    "i = 0\n",
    "labels = []\n",
    "while i < len(lines) - 8 + 1:\n",
    "    labels.append(lines[i][3])\n",
    "    i = i + 8\n"
   ]
  },
  {
   "cell_type": "code",
   "execution_count": 145,
   "metadata": {},
   "outputs": [],
   "source": [
    "labels = labels[1:]"
   ]
  },
  {
   "cell_type": "code",
   "execution_count": 147,
   "metadata": {},
   "outputs": [
    {
     "output_type": "execute_result",
     "data": {
      "text/plain": [
       "['normal',\n",
       " 'normal',\n",
       " 'normal',\n",
       " 'normal',\n",
       " 'aml',\n",
       " 'normal',\n",
       " 'aml',\n",
       " 'normal',\n",
       " 'aml',\n",
       " 'normal']"
      ]
     },
     "metadata": {},
     "execution_count": 147
    }
   ],
   "source": [
    "labels[:10]"
   ]
  },
  {
   "cell_type": "code",
   "execution_count": 148,
   "metadata": {},
   "outputs": [
    {
     "output_type": "stream",
     "name": "stdout",
     "text": [
      "normal,normal,normal,normal,aml,normal,aml,normal,aml,normal,normal,normal,normal,normal,normal,normal,normal,normal,normal,normal,normal,normal,normal,normal,normal,aml,normal,normal,normal,normal,normal,normal,aml,normal,normal,normal,aml,normal,normal,normal,normal,normal,normal,normal,normal,normal,normal,normal,aml,normal,normal,normal,normal,normal,normal,normal,normal,aml,normal,aml,normal,normal,normal,normal,normal,normal,aml,normal,normal,normal,normal,normal,normal,normal,normal,normal,normal,normal,normal,normal,normal,normal,normal,normal,normal,normal,normal,aml,aml,normal,normal,normal,normal,normal,aml,normal,normal,normal,normal,normal,aml,normal,aml,normal,aml,normal,normal,normal,normal,normal,normal,normal,normal,normal,normal,aml,aml,normal,normal,normal,normal,normal,normal,normal,normal,normal,normal,normal,normal,normal,normal,normal,normal,aml,normal,normal,normal,normal,normal,normal,normal,normal,normal,normal,normal,normal,normal,normal,normal,normal,aml,normal,normal,normal,normal,normal,normal,normal,normal,normal,normal,normal,normal,normal,aml,normal,normal,normal,normal,normal,normal,aml,normal,aml,normal,normal,normal,normal,normal,NA,NA,NA,NA,NA,NA,NA,NA,NA,NA,NA,NA,NA,NA,NA,NA,NA,NA,NA,NA,NA,NA,NA,NA,NA,NA,NA,NA,NA,NA,NA,NA,NA,NA,NA,NA,NA,NA,NA,NA,NA,NA,NA,NA,NA,NA,NA,NA,NA,NA,NA,NA,NA,NA,NA,NA,NA,NA,NA,NA,NA,NA,NA,NA,NA,NA,NA,NA,NA,NA,NA,NA,NA,NA,NA,NA,NA,NA,NA,NA,NA,NA,NA,NA,NA,NA,NA,NA,NA,NA,NA,NA,NA,NA,NA,NA,NA,NA,NA,NA,NA,NA,NA,NA,NA,NA,NA,NA,NA,NA,NA,NA,NA,NA,NA,NA,NA,NA,NA,NA,NA,NA,NA,NA,NA,NA,NA,NA,NA,NA,NA,NA,NA,NA,NA,NA,NA,NA,NA,NA,NA,NA,NA,NA,NA,NA,NA,NA,NA,NA,NA,NA,NA,NA,NA,NA,NA,NA,NA,NA,NA,NA,NA,NA,NA,NA,NA,NA,NA,NA,NA,NA,NA,NA,NA,NA,NA,NA,NA\n"
     ]
    }
   ],
   "source": [
    "str1 = ','.join([str(x) for x in labels])\n",
    "print(str1)"
   ]
  },
  {
   "cell_type": "code",
   "execution_count": null,
   "metadata": {},
   "outputs": [],
   "source": []
  }
 ]
}